{
 "cells": [
  {
   "cell_type": "markdown",
   "id": "a734f8f2-48d3-4bd8-88d6-dc6a88a68742",
   "metadata": {},
   "source": [
    "# Training a Decision Tree Classifier"
   ]
  },
  {
   "cell_type": "code",
   "execution_count": 77,
   "id": "fbdc6566-d1f7-48bb-b6e0-b0996326e659",
   "metadata": {},
   "outputs": [],
   "source": [
    "from sklearn.tree import DecisionTreeClassifier\n",
    "from sklearn.datasets import load_iris\n",
    "import numpy as np "
   ]
  },
  {
   "cell_type": "code",
   "execution_count": 78,
   "id": "4d6ae6d2-e98e-4c43-9cd1-32b791136041",
   "metadata": {},
   "outputs": [],
   "source": [
    "X, y = load_iris().data, load_iris().target"
   ]
  },
  {
   "cell_type": "code",
   "execution_count": 86,
   "id": "51321248-28a2-425e-a025-782cb1f9b900",
   "metadata": {},
   "outputs": [],
   "source": [
    "tree = DecisionTreeClassifier() # by default it uses the GI as the criterion"
   ]
  },
  {
   "cell_type": "code",
   "execution_count": 87,
   "id": "7bf5b2d4-d157-4c69-b0d1-1f6a7189a4fa",
   "metadata": {},
   "outputs": [],
   "source": [
    "obs = np.array([5,4,3,2])"
   ]
  },
  {
   "cell_type": "code",
   "execution_count": 88,
   "id": "ff88efe8-d774-4da8-88ea-08b497ba0be0",
   "metadata": {},
   "outputs": [],
   "source": [
    "model = tree.fit(X,y)"
   ]
  },
  {
   "cell_type": "code",
   "execution_count": 89,
   "id": "3e245ab3-f7bd-4af8-aea7-17fcbac2d3c2",
   "metadata": {},
   "outputs": [
    {
     "data": {
      "text/plain": [
       "array([1])"
      ]
     },
     "execution_count": 89,
     "metadata": {},
     "output_type": "execute_result"
    }
   ],
   "source": [
    "tree.fit(X,y).predict(obs.reshape(1,4))"
   ]
  },
  {
   "cell_type": "code",
   "execution_count": 90,
   "id": "2f3860a4-15d3-4964-8b32-2adb61e8ae6b",
   "metadata": {},
   "outputs": [
    {
     "data": {
      "text/plain": [
       "array([[0., 1., 0.]])"
      ]
     },
     "execution_count": 90,
     "metadata": {},
     "output_type": "execute_result"
    }
   ],
   "source": [
    "tree.fit(X,y).predict_proba(obs.reshape(1,4))"
   ]
  },
  {
   "cell_type": "code",
   "execution_count": 101,
   "id": "97c8edf4-78dd-420e-91d7-8b9c383de692",
   "metadata": {},
   "outputs": [
    {
     "data": {
      "image/png": "[encoded data removed]",
      "text/plain": [
       "<Figure size 432x288 with 1 Axes>"
      ]
     },
     "metadata": {
      "needs_background": "light"
     },
     "output_type": "display_data"
    }
   ],
   "source": [
    "from sklearn.tree import plot_tree\n",
    "from matplotlib import pyplot as plt\n",
    "plot_tree(model, filled=True,rounded=True );"
   ]
  },
  {
   "cell_type": "code",
   "execution_count": null,
   "id": "dc5d6015-dbb8-4309-88a5-7881c2501de3",
   "metadata": {},
   "outputs": [],
   "source": []
  },
  {
   "cell_type": "code",
   "execution_count": 45,
   "id": "3cf87559-bc97-4061-b85e-c09e6599de11",
   "metadata": {},
   "outputs": [],
   "source": [
    "tree2 = DecisionTreeClassifier(ccp_alpha=0.6, criterion = 'entropy')"
   ]
  },
  {
   "cell_type": "code",
   "execution_count": 46,
   "id": "7011a6aa-fff2-4dec-aa06-92e663ea46d5",
   "metadata": {},
   "outputs": [
    {
     "data": {
      "text/plain": [
       "array([1])"
      ]
     },
     "execution_count": 46,
     "metadata": {},
     "output_type": "execute_result"
    }
   ],
   "source": [
    "tree2.fit(X,y).predict(obs.reshape(1,4))"
   ]
  },
  {
   "cell_type": "code",
   "execution_count": 47,
   "id": "85a5f83a-2d74-4181-b9e3-990b722bf18e",
   "metadata": {},
   "outputs": [
    {
     "data": {
      "text/plain": [
       "array([[0. , 0.5, 0.5]])"
      ]
     },
     "execution_count": 47,
     "metadata": {},
     "output_type": "execute_result"
    }
   ],
   "source": [
    "tree2.fit(X,y).predict_proba(obs.reshape(1,4))"
   ]
  },
  {
   "cell_type": "markdown",
   "id": "80e779ad-2d98-41ee-a771-3f70f7e4b709",
   "metadata": {},
   "source": [
    "# Training a Decision Tree Regressor"
   ]
  },
  {
   "cell_type": "code",
   "execution_count": 52,
   "id": "646f4d3c-e21a-4195-9c19-491fe5b29a35",
   "metadata": {},
   "outputs": [],
   "source": [
    "from sklearn.tree import DecisionTreeRegressor\n",
    "from sklearn.datasets import load_boston"
   ]
  },
  {
   "cell_type": "code",
   "execution_count": 53,
   "id": "594eb262-90d8-4be9-8173-0629b39109fa",
   "metadata": {},
   "outputs": [],
   "source": [
    "Xb, yb = load_boston().data, load_boston().target"
   ]
  },
  {
   "cell_type": "code",
   "execution_count": 54,
   "id": "c2efe8c2-652e-4af9-b9d4-f9cb4c18e207",
   "metadata": {},
   "outputs": [],
   "source": [
    "TR = DecisionTreeRegressor() # by default the criterion is the MSE (Mean Squared error), how much the better model can reduce that "
   ]
  },
  {
   "cell_type": "code",
   "execution_count": 67,
   "id": "279c18a8-e76f-48e6-b302-78012955cbc3",
   "metadata": {},
   "outputs": [
    {
     "data": {
      "text/plain": [
       "array([13.6])"
      ]
     },
     "execution_count": 67,
     "metadata": {},
     "output_type": "execute_result"
    }
   ],
   "source": [
    "TR.fit(Xb,yb).predict(Xb[20].reshape(1,13))"
   ]
  },
  {
   "cell_type": "code",
   "execution_count": null,
   "id": "9ebda06f-d8e9-4cd6-80df-a13beb1af80d",
   "metadata": {},
   "outputs": [],
   "source": []
  },
  {
   "cell_type": "code",
   "execution_count": 69,
   "id": "0089c27d-0a18-4679-87fb-2ad8b92ff462",
   "metadata": {},
   "outputs": [],
   "source": [
    "TR2 = DecisionTreeRegressor(criterion='mae') # mae = Mean Absoute Error"
   ]
  },
  {
   "cell_type": "code",
   "execution_count": 71,
   "id": "47ba11f0-6495-444d-9e73-b4b079f207a5",
   "metadata": {},
   "outputs": [
    {
     "data": {
      "text/plain": [
       "array([19.7])"
      ]
     },
     "execution_count": 71,
     "metadata": {},
     "output_type": "execute_result"
    }
   ],
   "source": [
    "TR2.fit(Xb,yb).predict(Xb[50].reshape(1,13))"
   ]
  },
  {
   "cell_type": "code",
   "execution_count": null,
   "id": "d235c8a2-5e46-4254-be93-630fcefd146d",
   "metadata": {},
   "outputs": [],
   "source": []
  },
  {
   "cell_type": "markdown",
   "id": "a9a2d653-1ac4-4a18-8b12-023e35927ea0",
   "metadata": {},
   "source": [
    "# Training a Random Forest Classifier"
   ]
  },
  {
   "cell_type": "code",
   "execution_count": 102,
   "id": "ba578e8e-3213-4c2f-a2bd-3c01a495cf5e",
   "metadata": {},
   "outputs": [],
   "source": [
    "from sklearn.ensemble import RandomForestClassifier"
   ]
  },
  {
   "cell_type": "code",
   "execution_count": 105,
   "id": "c7c8cffc-0440-459a-ab8c-b8ed96743301",
   "metadata": {},
   "outputs": [],
   "source": [
    "forest = RandomForestClassifier(criterion ='entropy', n_estimators=100, max_features=2)"
   ]
  },
  {
   "cell_type": "code",
   "execution_count": 106,
   "id": "00594dec-14dc-49f0-b6c8-2c8986628e64",
   "metadata": {},
   "outputs": [],
   "source": [
    "fitted_forest = forest.fit(X,y)"
   ]
  },
  {
   "cell_type": "code",
   "execution_count": 109,
   "id": "744f4896-9f10-4b71-b32a-433edbb43f3a",
   "metadata": {},
   "outputs": [
    {
     "data": {
      "text/plain": [
       "array([0])"
      ]
     },
     "execution_count": 109,
     "metadata": {},
     "output_type": "execute_result"
    }
   ],
   "source": [
    "fitted_forest.predict(X[1].reshape(1,4))"
   ]
  },
  {
   "cell_type": "code",
   "execution_count": 108,
   "id": "04f945d8-b007-4059-9921-5f9de5e4f3ac",
   "metadata": {},
   "outputs": [
    {
     "data": {
      "text/plain": [
       "array([[1., 0., 0.]])"
      ]
     },
     "execution_count": 108,
     "metadata": {},
     "output_type": "execute_result"
    }
   ],
   "source": [
    "fitted_forest.predict_proba(X[1].reshape(1,4))"
   ]
  },
  {
   "cell_type": "markdown",
   "id": "030599d3-b016-4fb9-aec4-ec7fc4db9f6d",
   "metadata": {},
   "source": [
    "# Training a Random Forest Regressor"
   ]
  },
  {
   "cell_type": "code",
   "execution_count": 110,
   "id": "4055e966-c364-4388-83f4-5132f4c7c4a2",
   "metadata": {},
   "outputs": [],
   "source": [
    "from sklearn.ensemble import RandomForestRegressor"
   ]
  },
  {
   "cell_type": "code",
   "execution_count": 117,
   "id": "a1f46bbb-72f2-4ab3-8c70-18352508f39f",
   "metadata": {},
   "outputs": [],
   "source": [
    "forest_regressor = RandomForestRegressor(max_features=6, n_estimators=300, bootstrap=False, n_jobs=-1)"
   ]
  },
  {
   "cell_type": "code",
   "execution_count": 118,
   "id": "459444ff-b360-4010-a993-c16fcdc18592",
   "metadata": {},
   "outputs": [],
   "source": [
    "fittedFR = forest_regressor.fit(Xb,yb)"
   ]
  },
  {
   "cell_type": "code",
   "execution_count": 119,
   "id": "404b3d99-b1b5-4f49-813a-a8b8fb6a578b",
   "metadata": {},
   "outputs": [
    {
     "data": {
      "text/plain": [
       "array([24.])"
      ]
     },
     "execution_count": 119,
     "metadata": {},
     "output_type": "execute_result"
    }
   ],
   "source": [
    "fittedFR.predict(Xb[0].reshape(1,13))"
   ]
  },
  {
   "cell_type": "markdown",
   "id": "68dd1345-492a-408b-8358-e90f566429cf",
   "metadata": {},
   "source": [
    "# Identifying Important Features in Random Forests"
   ]
  },
  {
   "cell_type": "code",
   "execution_count": 144,
   "id": "ce25559e-5892-4ed2-8930-f21302c30014",
   "metadata": {},
   "outputs": [],
   "source": [
    "boston = load_boston()"
   ]
  },
  {
   "cell_type": "code",
   "execution_count": 130,
   "id": "2178b66b-9c90-46d8-9e0a-00977d7e1d41",
   "metadata": {},
   "outputs": [
    {
     "data": {
      "text/plain": [
       "array([0.04825322, 0.0022259 , 0.05449272, 0.00239421, 0.062288  ,\n",
       "       0.3636803 , 0.01849582, 0.05716256, 0.00405548, 0.02031916,\n",
       "       0.04220268, 0.01469582, 0.30973414])"
      ]
     },
     "execution_count": 130,
     "metadata": {},
     "output_type": "execute_result"
    }
   ],
   "source": [
    "importance = fittedFR.feature_importances_\n",
    "importance"
   ]
  },
  {
   "cell_type": "code",
   "execution_count": 140,
   "id": "f5a6c8bb-0832-4ba8-8f64-3f56cf4a2646",
   "metadata": {},
   "outputs": [
    {
     "data": {
      "text/plain": [
       "array([ 1,  3,  8, 11,  6,  9, 10,  0,  2,  7,  4, 12,  5])"
      ]
     },
     "execution_count": 140,
     "metadata": {},
     "output_type": "execute_result"
    }
   ],
   "source": [
    "index = np.argsort(importance)\n",
    "index"
   ]
  },
  {
   "cell_type": "code",
   "execution_count": 151,
   "id": "864dd7ab-31a4-439e-af96-52a5a3bee826",
   "metadata": {},
   "outputs": [
    {
     "data": {
      "text/plain": [
       "array([ 5, 12,  4,  7,  2,  0, 10,  9,  6, 11,  8,  3,  1])"
      ]
     },
     "execution_count": 151,
     "metadata": {},
     "output_type": "execute_result"
    }
   ],
   "source": [
    "index_rvs = np.argsort(importance)[::-1]\n",
    "index_rvs"
   ]
  },
  {
   "cell_type": "code",
   "execution_count": 125,
   "id": "9fcc596a-b363-459a-a836-fec85d10b2e9",
   "metadata": {},
   "outputs": [
    {
     "data": {
      "text/plain": [
       "13"
      ]
     },
     "execution_count": 125,
     "metadata": {},
     "output_type": "execute_result"
    }
   ],
   "source": [
    "Xb.shape[1]"
   ]
  },
  {
   "cell_type": "code",
   "execution_count": 149,
   "id": "edf42a0a-499f-4a3a-9631-68da76abcb08",
   "metadata": {},
   "outputs": [],
   "source": [
    "names = [boston.feature_names[i] for i in index_rvs]"
   ]
  },
  {
   "cell_type": "code",
   "execution_count": 150,
   "id": "518a9ce8-78a1-45b5-b318-542f16565cc6",
   "metadata": {},
   "outputs": [
    {
     "data": {
      "image/png": "[encoded data removed]",
      "text/plain": [
       "<Figure size 432x288 with 1 Axes>"
      ]
     },
     "metadata": {
      "needs_background": "light"
     },
     "output_type": "display_data"
    }
   ],
   "source": [
    "plt.bar(range(Xb.shape[1]), importance[index_rvs])\n",
    "plt.xticks(range(Xb.shape[1]), names, rotation=90);"
   ]
  },
  {
   "cell_type": "markdown",
   "id": "39eb4265-7a81-43f7-8391-1b941c45837a",
   "metadata": {},
   "source": [
    "# Selecting Important Features in Random Forests"
   ]
  },
  {
   "cell_type": "code",
   "execution_count": 163,
   "id": "5623b8d4-5423-4995-82d0-e5ec35036ebb",
   "metadata": {},
   "outputs": [],
   "source": [
    "from sklearn.datasets import load_iris\n",
    "from sklearn.feature_selection import SelectFromModel"
   ]
  },
  {
   "cell_type": "code",
   "execution_count": 156,
   "id": "241752c7-e418-4ec9-968f-192350a0e7ef",
   "metadata": {},
   "outputs": [],
   "source": [
    "Xi,yi = load_iris().data, load_iris().target"
   ]
  },
  {
   "cell_type": "code",
   "execution_count": 157,
   "id": "2e99116f-f732-47b4-97ac-9a1396eadbeb",
   "metadata": {},
   "outputs": [],
   "source": [
    "clf = RandomForestClassifier(n_estimators=100, max_features=2, bootstrap=False, n_jobs=-1)"
   ]
  },
  {
   "cell_type": "code",
   "execution_count": 158,
   "id": "94af5489-a693-4cc8-9ba5-2e5cb72e56b7",
   "metadata": {},
   "outputs": [],
   "source": [
    "fitclf = clf.fit(Xi,yi)"
   ]
  },
  {
   "cell_type": "code",
   "execution_count": 159,
   "id": "5cb65211-db5e-4945-9c62-08435e7c50a2",
   "metadata": {},
   "outputs": [
    {
     "data": {
      "text/plain": [
       "array([[1., 0., 0.]])"
      ]
     },
     "execution_count": 159,
     "metadata": {},
     "output_type": "execute_result"
    }
   ],
   "source": [
    "fitclf.predict_proba(Xi[0].reshape(1,4))"
   ]
  },
  {
   "cell_type": "code",
   "execution_count": 161,
   "id": "d03a62c2-7c1e-49ae-ba95-853f01e73e82",
   "metadata": {},
   "outputs": [
    {
     "data": {
      "text/plain": [
       "array([0.10536942, 0.0233987 , 0.43300846, 0.43822342])"
      ]
     },
     "execution_count": 161,
     "metadata": {},
     "output_type": "execute_result"
    }
   ],
   "source": [
    "fitclf.feature_importances_"
   ]
  },
  {
   "cell_type": "code",
   "execution_count": 164,
   "id": "6cfb9f3d-c1df-4473-88f1-80313201e1e1",
   "metadata": {},
   "outputs": [],
   "source": [
    "select = SelectFromModel(fitclf, threshold=0.4) # the threshold is the feature_importances value"
   ]
  },
  {
   "cell_type": "code",
   "execution_count": 177,
   "id": "71637432-75a8-49a7-a3a9-e2f965ef00e9",
   "metadata": {},
   "outputs": [
    {
     "data": {
      "text/plain": [
       "(150, 4)"
      ]
     },
     "execution_count": 177,
     "metadata": {},
     "output_type": "execute_result"
    }
   ],
   "source": [
    "Xi.shape"
   ]
  },
  {
   "cell_type": "code",
   "execution_count": 180,
   "id": "66dca4f3-4fc0-48de-a71b-e945a09befec",
   "metadata": {},
   "outputs": [
    {
     "data": {
      "text/plain": [
       "(150, 2)"
      ]
     },
     "execution_count": 180,
     "metadata": {},
     "output_type": "execute_result"
    }
   ],
   "source": [
    "afterselection_features = select.fit_transform(Xi,yi)\n",
    "afterselection_features.shape"
   ]
  },
  {
   "cell_type": "code",
   "execution_count": 181,
   "id": "88295b0d-4d1c-455a-95ca-a04e63492f43",
   "metadata": {},
   "outputs": [],
   "source": [
    "better_fit = clf.fit(afterselection_features, yi)"
   ]
  },
  {
   "cell_type": "code",
   "execution_count": 182,
   "id": "208ed4a7-4e75-4e7e-ab3c-0516649f534d",
   "metadata": {},
   "outputs": [
    {
     "data": {
      "text/plain": [
       "array([[1., 0., 0.]])"
      ]
     },
     "execution_count": 182,
     "metadata": {},
     "output_type": "execute_result"
    }
   ],
   "source": [
    "better_fit.predict_proba(afterselection_features[0].reshape(1,2))"
   ]
  },
  {
   "cell_type": "markdown",
   "id": "3f6b16eb-3a93-481b-b0ab-daadd3291e71",
   "metadata": {},
   "source": [
    "# Handling Imbalanced Classes"
   ]
  },
  {
   "cell_type": "code",
   "execution_count": 184,
   "id": "c7ac213d-f126-41e0-9ccf-655f19c98c54",
   "metadata": {},
   "outputs": [],
   "source": [
    "new_features = Xi[40:, :]\n",
    "new_target = yi[40:]"
   ]
  },
  {
   "cell_type": "code",
   "execution_count": 186,
   "id": "ee37c9f5-b71b-4188-8173-c369345f6523",
   "metadata": {},
   "outputs": [
    {
     "data": {
      "text/plain": [
       "array([0, 0, 0, 0, 0, 0, 0, 0, 0, 0, 1, 1, 1, 1, 1, 1, 1, 1, 1, 1, 1, 1,\n",
       "       1, 1, 1, 1, 1, 1, 1, 1, 1, 1, 1, 1, 1, 1, 1, 1, 1, 1, 1, 1, 1, 1,\n",
       "       1, 1, 1, 1, 1, 1, 1, 1, 1, 1, 1, 1, 1, 1, 1, 1, 2, 2, 2, 2, 2, 2,\n",
       "       2, 2, 2, 2, 2, 2, 2, 2, 2, 2, 2, 2, 2, 2, 2, 2, 2, 2, 2, 2, 2, 2,\n",
       "       2, 2, 2, 2, 2, 2, 2, 2, 2, 2, 2, 2, 2, 2, 2, 2, 2, 2, 2, 2, 2, 2])"
      ]
     },
     "execution_count": 186,
     "metadata": {},
     "output_type": "execute_result"
    }
   ],
   "source": [
    "new_target"
   ]
  },
  {
   "cell_type": "code",
   "execution_count": 191,
   "id": "0162b3d6-339e-437a-8e13-9fd2217ff987",
   "metadata": {},
   "outputs": [],
   "source": [
    "yi_new = np.where((new_target==0), 0 ,1)"
   ]
  },
  {
   "cell_type": "code",
   "execution_count": 192,
   "id": "71fe402c-982f-4804-9673-bb435c920266",
   "metadata": {},
   "outputs": [
    {
     "data": {
      "text/plain": [
       "array([0, 0, 0, 0, 0, 0, 0, 0, 0, 0, 1, 1, 1, 1, 1, 1, 1, 1, 1, 1, 1, 1,\n",
       "       1, 1, 1, 1, 1, 1, 1, 1, 1, 1, 1, 1, 1, 1, 1, 1, 1, 1, 1, 1, 1, 1,\n",
       "       1, 1, 1, 1, 1, 1, 1, 1, 1, 1, 1, 1, 1, 1, 1, 1, 1, 1, 1, 1, 1, 1,\n",
       "       1, 1, 1, 1, 1, 1, 1, 1, 1, 1, 1, 1, 1, 1, 1, 1, 1, 1, 1, 1, 1, 1,\n",
       "       1, 1, 1, 1, 1, 1, 1, 1, 1, 1, 1, 1, 1, 1, 1, 1, 1, 1, 1, 1, 1, 1])"
      ]
     },
     "execution_count": 192,
     "metadata": {},
     "output_type": "execute_result"
    }
   ],
   "source": [
    "yi_new"
   ]
  },
  {
   "cell_type": "code",
   "execution_count": 194,
   "id": "26b2710f-78c5-4833-a34a-fbd17db58fe0",
   "metadata": {},
   "outputs": [],
   "source": [
    "forest = RandomForestClassifier(n_estimators=300, max_features=2, bootstrap=False, n_jobs=-1, class_weight='balanced')"
   ]
  },
  {
   "cell_type": "code",
   "execution_count": 195,
   "id": "a927e3cf-709e-4d80-9247-71a527cab45a",
   "metadata": {},
   "outputs": [],
   "source": [
    "ftforest = forest.fit(new_features, yi_new)"
   ]
  },
  {
   "cell_type": "markdown",
   "id": "655081dd-09a3-459b-bb8a-e158f7e6544b",
   "metadata": {},
   "source": [
    "# Controlling Tree Size"
   ]
  },
  {
   "cell_type": "code",
   "execution_count": 198,
   "id": "5d6d3d44-b2b0-4a50-92c4-f6899cf2d000",
   "metadata": {},
   "outputs": [],
   "source": [
    "decisiontree = DecisionTreeClassifier(max_depth=None, min_impurity_decrease=0, min_samples_split=2, min_samples_leaf=1 , max_leaf_nodes=None, min_weight_fraction_leaf=0)"
   ]
  },
  {
   "cell_type": "code",
   "execution_count": 199,
   "id": "68c2a077-d455-4c2c-b9c4-a56f83bb5230",
   "metadata": {},
   "outputs": [
    {
     "data": {
      "text/plain": [
       "DecisionTreeClassifier(min_impurity_decrease=0, min_weight_fraction_leaf=0)"
      ]
     },
     "execution_count": 199,
     "metadata": {},
     "output_type": "execute_result"
    }
   ],
   "source": [
    "decisiontree.fit(Xi,yi)"
   ]
  },
  {
   "cell_type": "markdown",
   "id": "898bd782-bdf7-43b1-a887-494967f45ccd",
   "metadata": {},
   "source": [
    "# Improving Performance Through Boosting"
   ]
  },
  {
   "cell_type": "code",
   "execution_count": 203,
   "id": "528555c7-11c0-429b-9b74-8dde25511f19",
   "metadata": {},
   "outputs": [],
   "source": [
    "from sklearn.ensemble import AdaBoostClassifier, AdaBoostRegressor"
   ]
  },
  {
   "cell_type": "code",
   "execution_count": 214,
   "id": "6b79e742-9706-4b41-abd1-5d0e60cbdc87",
   "metadata": {},
   "outputs": [],
   "source": [
    "adaclassifier = AdaBoostClassifier() #base_estimator, n_estimators, and learning_rate (default=1):\n",
    "adaregressor = AdaBoostRegressor()"
   ]
  },
  {
   "cell_type": "code",
   "execution_count": 208,
   "id": "2c13d613-9b89-418f-b710-e6fcc74fb6ea",
   "metadata": {},
   "outputs": [
    {
     "data": {
      "text/plain": [
       "array([0])"
      ]
     },
     "execution_count": 208,
     "metadata": {},
     "output_type": "execute_result"
    }
   ],
   "source": [
    "adaclassifier.fit(Xi,yi).predict(Xi[0].reshape(1,4))"
   ]
  },
  {
   "cell_type": "code",
   "execution_count": 210,
   "id": "e91671bc-69a8-4769-a032-3433785d73a7",
   "metadata": {},
   "outputs": [
    {
     "data": {
      "text/plain": [
       "array([26.22957746])"
      ]
     },
     "execution_count": 210,
     "metadata": {},
     "output_type": "execute_result"
    }
   ],
   "source": [
    "adaregressor.fit(Xb,yb).predict(Xb[0].reshape(1,13))"
   ]
  },
  {
   "cell_type": "code",
   "execution_count": 211,
   "id": "5de0395e-a1f0-4433-916d-0189497e295e",
   "metadata": {},
   "outputs": [
    {
     "data": {
      "text/plain": [
       "array([0.  , 0.  , 0.52, 0.48])"
      ]
     },
     "execution_count": 211,
     "metadata": {},
     "output_type": "execute_result"
    }
   ],
   "source": [
    "adaclassifier.fit(Xi,yi).feature_importances_"
   ]
  },
  {
   "cell_type": "code",
   "execution_count": 212,
   "id": "61db8932-de14-4102-80c4-98c0d22c8630",
   "metadata": {},
   "outputs": [
    {
     "data": {
      "text/plain": [
       "array([0.0238645 , 0.00090489, 0.00566026, 0.        , 0.05312142,\n",
       "       0.20695976, 0.00674391, 0.143066  , 0.01366085, 0.04221876,\n",
       "       0.05607305, 0.01743407, 0.43029255])"
      ]
     },
     "execution_count": 212,
     "metadata": {},
     "output_type": "execute_result"
    }
   ],
   "source": [
    "adaregressor.fit(Xb,yb).feature_importances_"
   ]
  },
  {
   "cell_type": "markdown",
   "id": "eddf8b2c-da66-4f39-b2b8-dddcb6a99af3",
   "metadata": {},
   "source": [
    "# Evaluating Random Forests with Out-of-Bag Errors"
   ]
  },
  {
   "cell_type": "code",
   "execution_count": 221,
   "id": "c36ddd0a-70ae-4184-8084-18915bdce549",
   "metadata": {},
   "outputs": [],
   "source": [
    "oobTree = RandomForestClassifier(max_features=3, n_estimators=300, oob_score=True, bootstrap=True, n_jobs=-1)"
   ]
  },
  {
   "cell_type": "code",
   "execution_count": 223,
   "id": "31253a70-35a2-472f-a016-5a8915bf1e7a",
   "metadata": {},
   "outputs": [
    {
     "data": {
      "text/plain": [
       "0.96"
      ]
     },
     "execution_count": 223,
     "metadata": {},
     "output_type": "execute_result"
    }
   ],
   "source": [
    "oobTree.fit(Xi,yi).oob_score_"
   ]
  },
  {
   "cell_type": "code",
   "execution_count": null,
   "id": "7112bdb5-9ff0-46e5-b2a4-5d2d6f32eb9e",
   "metadata": {},
   "outputs": [],
   "source": []
  }
 ],
 "metadata": {
  "kernelspec": {
   "display_name": "Python 3 (ipykernel)",
   "language": "python",
   "name": "python3"
  },
  "language_info": {
   "codemirror_mode": {
    "name": "ipython",
    "version": 3
   },
   "file_extension": ".py",
   "mimetype": "text/x-python",
   "name": "python",
   "nbconvert_exporter": "python",
   "pygments_lexer": "ipython3",
   "version": "3.9.7"
  }
 },
 "nbformat": 4,
 "nbformat_minor": 5
}
